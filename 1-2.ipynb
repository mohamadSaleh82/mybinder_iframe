{
 "cells": [
  {
   "cell_type": "code",
   "execution_count": 1,
   "id": "2d72402f-8670-477d-9880-73d8ca89c5fb",
   "metadata": {},
   "outputs": [],
   "source": [
    "from utility import chech_tool as ch"
   ]
  },
  {
   "cell_type": "markdown",
   "id": "3795b2db-9e45-4709-bd11-9238fff17583",
   "metadata": {},
   "source": [
    "<p style='text-align:center; font-size:20px ; color: DodgerBlue'>\n",
    "    متغیر ها نقش اساسی در برنامه نویسی دارند. تو این قسمت یاد می گیری چطور متغیر تعریف کنی\n",
    "</p>"
   ]
  },
  {
   "cell_type": "markdown",
   "id": "8a2b0b1f-fe5c-4f3e-872f-123677063913",
   "metadata": {},
   "source": [
    "\n",
    "<p style='text-align:center; font-size:20px'>\n",
    "<span style='font-size:50px;'>&#128508;\t</span>\n",
    "    یک متغیر با عدد صحیح دلخواه و یک متغیر با عدد اعشاری دلخواه تعریف کن و دو عدد را با هم جمع بزن\n",
    "<span style='font-size:50px;'>&#128508;\t</span>\n",
    "</p>\n"
   ]
  },
  {
   "cell_type": "code",
   "execution_count": null,
   "id": "796f803e-aa43-46e5-b0c4-c259502b015c",
   "metadata": {},
   "outputs": [],
   "source": []
  },
  {
   "cell_type": "markdown",
   "id": "e91a89f1-c8f4-496a-b212-4b803f0565bc",
   "metadata": {},
   "source": [
    "<p style='text-align:center; font-size:20px; color:purple'>\n",
    "<span style='font-size:50px;'>&#128540;\t</span>\n",
    "    حالا دو متغیر رشته ای (استرینگ) تعریف کن و با هم جمع بزن\n",
    "<span style='font-size:50px;'>&#128540;\t</span>\n",
    "</p>"
   ]
  },
  {
   "cell_type": "code",
   "execution_count": null,
   "id": "e294b457-6ee3-4a73-8edb-4481d9015a2a",
   "metadata": {},
   "outputs": [],
   "source": []
  },
  {
   "cell_type": "markdown",
   "id": "59a58ef9-ecd7-4a73-b8f0-e0af0e088e67",
   "metadata": {},
   "source": [
    "<p style='text-align:center; font-size:20px; color: Tomato'>\n",
    "<span style='font-size:50px;'>&#128561;\t</span>\n",
    "    حالا یه متغیر رشته ای دلخواه تعریف کن و متغیر را در یک عدد ثابت مثل ۲ یا ۳ ضرب کن\n",
    "<span style='font-size:50px;'>&#128561;\t</span>\n",
    "</p>"
   ]
  },
  {
   "cell_type": "code",
   "execution_count": null,
   "id": "7e5417b6-bc4f-4134-872a-efa1b05523b4",
   "metadata": {},
   "outputs": [],
   "source": []
  },
  {
   "cell_type": "markdown",
   "id": "f221daab-ea7b-4e00-892b-a990c69cf0f4",
   "metadata": {},
   "source": [
    "<p style='text-align:center; font-size:20px; color: rgb(25, 139, 271);'>\n",
    "<span style='font-size:50px;'>&#128562;\t</span>\n",
    "ببین آیا میشه دو متغیر شرطی را با هم جمع بزنی یا در یه عدد ثابت ضرب کنی\n",
    "<span style='font-size:50px;'>&#128562;\t</span>\n",
    "</p>"
   ]
  },
  {
   "cell_type": "code",
   "execution_count": null,
   "id": "92c9230f-6aba-4d5b-b4c3-4b45fc74c1c1",
   "metadata": {},
   "outputs": [],
   "source": []
  },
  {
   "cell_type": "markdown",
   "id": "e82571cf-ad8e-4a85-8635-61776ab090b5",
   "metadata": {},
   "source": [
    "<p style='text-align:center; font-size:20px; color: rgb(65, 239, 91);'>\n",
    "<span style='font-size:50px;'>&#128525;\t</span>\n",
    "    تو سلول های پایین خودت متغیر ها را تعریف کن و اون ها رو بررسی کن\n",
    "<span style='font-size:50px;'>&#128525;\t</span>\n",
    "</p>"
   ]
  },
  {
   "cell_type": "code",
   "execution_count": null,
   "id": "f0544687-8a98-4b25-81fd-e5b936027696",
   "metadata": {},
   "outputs": [],
   "source": []
  },
  {
   "cell_type": "code",
   "execution_count": null,
   "id": "b660b40f-46f4-4782-a5b2-d82147f4be34",
   "metadata": {},
   "outputs": [],
   "source": []
  },
  {
   "cell_type": "code",
   "execution_count": null,
   "id": "508c4c2f-3a90-4042-a0d9-cd0279598aa2",
   "metadata": {},
   "outputs": [],
   "source": []
  },
  {
   "cell_type": "code",
   "execution_count": null,
   "id": "597145e4-8525-4638-add4-4e01dea2d19e",
   "metadata": {},
   "outputs": [],
   "source": []
  },
  {
   "cell_type": "markdown",
   "id": "25730346-66b5-4ac2-ac24-2778e9f9852d",
   "metadata": {},
   "source": [
    "\n",
    "<h2 style='text-align: center; color: red; font-size:30px '>\n",
    "تمرین ۱\n",
    "</h2>\n",
    "\n",
    "<p style='text-align: center; font-size:20px;' dir='rtl'>متغیری به صورت \n",
    "<span>$x1=2.3$</span>\n",
    " و متغیر دیگری به صورت \n",
    "<span>$x2=4.9$</span>\n",
    "     تعریف کنید. این دو متغیر را در هم ضرب کنید \n",
    "</p>"
   ]
  },
  {
   "cell_type": "code",
   "execution_count": null,
   "id": "d1469f43-b129-4943-a52e-b52ceb1eeed8",
   "metadata": {},
   "outputs": [
    {
     "data": {
      "text/plain": [
       "11.27"
      ]
     },
     "execution_count": 4,
     "metadata": {},
     "output_type": "execute_result"
    }
   ],
   "source": [
    "###Q1\n",
    "x1 =\n",
    "x2 = \n",
    "?\n",
    "###"
   ]
  },
  {
   "cell_type": "code",
   "execution_count": 5,
   "id": "368279ab-aa03-4ef1-86ff-662b70a01eeb",
   "metadata": {},
   "outputs": [
    {
     "data": {
      "text/markdown": [
       "<p style='font-size:70px;text-align:center'>&#128512;</p>"
      ],
      "text/plain": [
       "<IPython.core.display.Markdown object>"
      ]
     },
     "execution_count": 5,
     "metadata": {},
     "output_type": "execute_result"
    }
   ],
   "source": [
    "ch.chech_Q1_1_2(_)"
   ]
  },
  {
   "cell_type": "markdown",
   "id": "7df10b7f-2c4e-40f0-923d-0132300ec151",
   "metadata": {},
   "source": [
    "\n",
    "<h2 style='text-align: center; color: red; font-size:30px '>\n",
    "تمرین ۲\n",
    "</h2>\n",
    "\n",
    "<p style='text-align: center; font-size:20px;' dir='rtl'>\n",
    "    دو متغیر به صورت\n",
    "<span>x1 = Hello</span>\n",
    " و  \n",
    "<span>x2 = Python</span>\n",
    "     تعریف کنید. متغیر \n",
    "<span>x3</span>  \n",
    "جمع این دو متغیر است. متغیر \n",
    "<span>x3</span>\n",
    "    در آخر سلول مقدار آن را چاپ می کند\n",
    "</p>"
   ]
  },
  {
   "cell_type": "code",
   "execution_count": 8,
   "id": "7f61536b-ae6e-4068-a043-adbb63259a9c",
   "metadata": {},
   "outputs": [
    {
     "data": {
      "text/plain": [
       "'HelloPython'"
      ]
     },
     "execution_count": 8,
     "metadata": {},
     "output_type": "execute_result"
    }
   ],
   "source": [
    "###Q2\n",
    "x1 = \"Hello\"\n",
    "x2 = \"Python\"\n",
    "x3 = x1+x2\n",
    "\n",
    "x3\n",
    "###"
   ]
  },
  {
   "cell_type": "code",
   "execution_count": 9,
   "id": "b0ee2455-d763-4c6d-930e-c95e730f2d92",
   "metadata": {},
   "outputs": [
    {
     "data": {
      "text/markdown": [
       "<p style='font-size:70px;text-align:center'>&#128512;</p>"
      ],
      "text/plain": [
       "<IPython.core.display.Markdown object>"
      ]
     },
     "execution_count": 9,
     "metadata": {},
     "output_type": "execute_result"
    }
   ],
   "source": [
    "ch.chech_Q2_1_2(_)"
   ]
  },
  {
   "cell_type": "code",
   "execution_count": null,
   "id": "e1015c38-45ee-4900-975e-9f270b076ad2",
   "metadata": {},
   "outputs": [],
   "source": [
    "f = ch.submit_form()\n",
    "f.form()"
   ]
  },
  {
   "cell_type": "code",
   "execution_count": null,
   "id": "c6b85ec7",
   "metadata": {},
   "outputs": [],
   "source": [
    "f.submit()"
   ]
  }
 ],
 "metadata": {
  "kernelspec": {
   "display_name": "Python 3 (ipykernel)",
   "language": "python",
   "name": "python3"
  },
  "language_info": {
   "codemirror_mode": {
    "name": "ipython",
    "version": 3
   },
   "file_extension": ".py",
   "mimetype": "text/x-python",
   "name": "python",
   "nbconvert_exporter": "python",
   "pygments_lexer": "ipython3",
   "version": "3.12.7"
  },
  "widgets": {
   "application/vnd.jupyter.widget-state+json": {
    "state": {},
    "version_major": 2,
    "version_minor": 0
   }
  }
 },
 "nbformat": 4,
 "nbformat_minor": 5
}
